{
 "cells": [
  {
   "cell_type": "markdown",
   "id": "eb536c05",
   "metadata": {},
   "source": [
    "# Exercise - 3: \n",
    "### Regularization with Alpha Dropout and MC Dropout\n",
    "\n",
    "Using the MNIST dataset, extend the previously trained deep neural network by applying\n",
    "Alpha Dropout. Then, without retraining, use Monte Carlo (MC) Dropout at inference\n",
    "to estimate if you can achieve better accuracy. Set random seeds to 42. Use the following\n",
    "configuration:"
   ]
  },
  {
   "cell_type": "markdown",
   "id": "2411517d",
   "metadata": {},
   "source": [
    "Before that:\n",
    "### What is Dropout/Alpha Dropout?\n",
    "From PyTourch Documentation: \n",
    "[Dropout ](https://docs.pytorch.org/docs/stable/generated/torch.nn.Dropout.html) ,\n",
    "[AlphaDropout](https://docs.pytorch.org/docs/stable/generated/torch.nn.AlphaDropout.html)\n",
    "\n",
    "\n",
    "Dropout:\n",
    "\n",
    "*During training, randomly zeroes some of the elements of the input tensor with probability p.\n",
    "The zeroed elements are chosen independently for each forward call and are sampled from a Bernoulli distribution.\n",
    "Each channel will be zeroed out independently on every forward call.*\n",
    "\n",
    "AlphaDropout:\n",
    "\n",
    "*Alpha Dropout is a type of Dropout that maintains the self-normalizing property. For an input with zero mean and unit standard deviation, the output of Alpha Dropout maintains the original mean and standard deviation of the input. Alpha Dropout goes hand-in-hand with SELU activation function, which ensures that the outputs have zero mean and unit standard deviation. During training, it randomly masks some of the elements of the input tensor with probability p using samples from a bernoulli distribution. The elements to masked are randomized on every forward call, and scaled and shifted to maintain zero mean and unit standard deviation. During evaluation the module simply computes an identity function.*\n",
    "\n",
    "\n",
    "\n",
    "First before we try to apply Monte Carlo Dropout, lets take a look at the same DNN from Q1.\n",
    "\n",
    "### Imports and seeding & Data prep"
   ]
  },
  {
   "cell_type": "code",
   "execution_count": 88,
   "id": "fbeefbd7",
   "metadata": {},
   "outputs": [],
   "source": [
    "import torch\n",
    "import torch.nn as nn\n",
    "import torch.optim as optim\n",
    "from torchvision import datasets, transforms\n",
    "from torch.utils.data import DataLoader, random_split, Subset\n",
    "import matplotlib.pyplot as plt\n",
    "import numpy as np\n",
    "import random\n",
    "\n",
    "seed = 42\n",
    "torch.manual_seed(seed)\n",
    "np.random.seed(seed)\n",
    "random.seed(seed)\n",
    "device = torch.device('cuda' if torch.cuda.is_available() else 'cpu')"
   ]
  },
  {
   "cell_type": "code",
   "execution_count": 89,
   "id": "e16a3fc8",
   "metadata": {},
   "outputs": [],
   "source": [
    "tfm = transforms.Compose([transforms.ToTensor(), transforms.Normalize((0,), (1,))])\n",
    "\n",
    "\n",
    "train_full = datasets.MNIST('./data', train=True, download=True, transform=tfm)\n",
    "test_full = datasets.MNIST('./data', train=False, download=True, transform=tfm)\n",
    "\n",
    "\n",
    "train_ds, test_ds = Subset(train_full, range(1000)), Subset(test_full, range(200))\n",
    "val_size = 200; train_size = len(train_ds) - val_size\n",
    "train_ds, val_ds = random_split(train_ds, [train_size, val_size])\n",
    "\n",
    "train_dl = DataLoader(train_ds, 32, True); val_dl = DataLoader(val_ds, 32); test_dl = DataLoader(test_ds, 32)\n"
   ]
  },
  {
   "cell_type": "markdown",
   "id": "adbdeb32",
   "metadata": {},
   "source": [
    "Q1's DNN with applied Alpha Dropout "
   ]
  },
  {
   "cell_type": "code",
   "execution_count": null,
   "id": "08843b74",
   "metadata": {},
   "outputs": [
    {
     "name": "stdout",
     "output_type": "stream",
     "text": [
      "Epoch 01: Train 1.6652, Val 0.9553\n",
      "Epoch 02: Train 0.7465, Val 0.6098\n",
      "Epoch 03: Train 0.4316, Val 0.5430\n",
      "Epoch 04: Train 0.3190, Val 0.5369\n",
      "Epoch 05: Train 0.2412, Val 0.5633\n",
      "Epoch 06: Train 0.2023, Val 0.5485\n",
      "Epoch 07: Train 0.1541, Val 0.5488\n",
      "Epoch 08: Train 0.1300, Val 0.6289\n",
      "Epoch 09: Train 0.0854, Val 0.6429\n",
      "Early stop.\n",
      "\n",
      "Test Accuracy: 88.50%\n"
     ]
    },
    {
     "data": {
      "image/png": "[encoded data removed]",
      "text/plain": [
       "<Figure size 640x480 with 1 Axes>"
      ]
     },
     "metadata": {},
     "output_type": "display_data"
    }
   ],
   "source": [
    "class DNN(nn.Module):\n",
    "    def __init__(self):\n",
    "        super().__init__()\n",
    "        self.net = nn.Sequential(\n",
    "            nn.Flatten(),\n",
    "            nn.Linear(784, 64), nn.SELU(), nn.AlphaDropout(0.1),\n",
    "            nn.Linear(64, 64), nn.SELU(), nn.AlphaDropout(0.1),\n",
    "            nn.Linear(64, 64), nn.SELU(), nn.AlphaDropout(0.1),\n",
    "            nn.Linear(64, 10)\n",
    "        )\n",
    "\n",
    "        # LeCun normal initialization\n",
    "        for m in self.net:\n",
    "            if isinstance(m, nn.Linear):\n",
    "                nn.init.normal_(m.weight, mean=0.0, std=(1.0 / m.in_features) ** 0.5)\n",
    "                nn.init.constant_(m.bias, 0)\n",
    "\n",
    "    def forward(self, x):\n",
    "        return self.net(x)\n",
    "\n",
    "model = DNN().to(device)\n",
    "\n",
    "# Nadam optimizer with learning rate 0.001\n",
    "opt = optim.NAdam(model.parameters(), lr=0.001)\n",
    "loss_fn = nn.CrossEntropyLoss()\n",
    "\n",
    "patience, best, wait = 5, 1e9, 0\n",
    "train_l, val_l = [], []\n",
    "for e in range(50):  # 50 epochs\n",
    "    model.train()\n",
    "    running_loss = 0\n",
    "    for x, y in train_dl:\n",
    "        x, y = x.to(device), y.to(device)\n",
    "        opt.zero_grad()\n",
    "        loss = loss_fn(model(x), y)\n",
    "        loss.backward()\n",
    "        opt.step()\n",
    "        running_loss += loss.item()\n",
    "    tl = running_loss / len(train_dl)\n",
    "\n",
    "    model.eval(); val_loss = 0\n",
    "    with torch.no_grad():\n",
    "        for x, y in val_dl:\n",
    "            val_loss += loss_fn(model(x.to(device)), y.to(device)).item()\n",
    "    vl = val_loss / len(val_dl)\n",
    "    train_l.append(tl); val_l.append(vl)\n",
    "    print(f\"Epoch {e+1:02d}: Train {tl:.4f}, Val {vl:.4f}\")\n",
    "\n",
    "    if vl < best: best, wait, best_w = vl, 0, model.state_dict().copy()\n",
    "    else:\n",
    "        wait += 1\n",
    "        if wait >= patience:\n",
    "            print(\"Early stop.\")\n",
    "            break\n",
    "\n",
    "model.load_state_dict(best_w)\n",
    "\n",
    "# --- Test ---\n",
    "model.eval(); correct = total = 0\n",
    "with torch.no_grad():\n",
    "    for x, y in test_dl:\n",
    "        p = model(x.to(device)).argmax(1)\n",
    "        correct += (p.cpu() == y).sum().item()\n",
    "        total += y.size(0)\n",
    "print(f\"\\nTest Accuracy: {100 * correct / total:.2f}%\")\n",
    "\n",
    "# --- Plot ---\n",
    "plt.plot(train_l, label='Train')\n",
    "plt.plot(val_l, label='Val')\n",
    "plt.xlabel('Epoch')\n",
    "plt.ylabel('Loss')\n",
    "plt.legend()\n",
    "plt.show()\n"
   ]
  },
  {
   "cell_type": "markdown",
   "id": "1987b08c",
   "metadata": {},
   "source": [
    "With the current normalization using standardization ( mean of 0, standard deviation of 1) we achive an slightly higher (90.5% vs 89%) accuracy than our Q1 model using ELU activation function and He normalization (also called kaiming, from a guy called Kaiming He). The Alpha dropout rate at 0.1 seems to be a sweet spot, Both higher and lower give less accuracy (0.5 vs 0.1 vs 0.01) (GRAPH UNDER)"
   ]
  }
 ],
 "metadata": {
  "kernelspec": {
   "display_name": "Python 3",
   "language": "python",
   "name": "python3"
  },
  "language_info": {
   "codemirror_mode": {
    "name": "ipython",
    "version": 3
   },
   "file_extension": ".py",
   "mimetype": "text/x-python",
   "name": "python",
   "nbconvert_exporter": "python",
   "pygments_lexer": "ipython3",
   "version": "3.11.9"
  }
 },
 "nbformat": 4,
 "nbformat_minor": 5
}
